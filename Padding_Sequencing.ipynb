{
  "nbformat": 4,
  "nbformat_minor": 0,
  "metadata": {
    "colab": {
      "name": "Padding Sequencing.ipynb",
      "provenance": [],
      "collapsed_sections": [],
      "authorship_tag": "ABX9TyMO1LLv7PUKtc7+ny9IMxvG",
      "include_colab_link": true
    },
    "kernelspec": {
      "name": "python3",
      "display_name": "Python 3"
    },
    "language_info": {
      "name": "python"
    }
  },
  "cells": [
    {
      "cell_type": "markdown",
      "metadata": {
        "id": "view-in-github",
        "colab_type": "text"
      },
      "source": [
        "<a href=\"https://colab.research.google.com/github/annanya-mathur/Generating-Poetry-NLP-with-tensorflow/blob/main/Padding_Sequencing.ipynb\" target=\"_parent\"><img src=\"https://colab.research.google.com/assets/colab-badge.svg\" alt=\"Open In Colab\"/></a>"
      ]
    },
    {
      "cell_type": "code",
      "metadata": {
        "id": "27vW7usMmRun"
      },
      "source": [
        "import tensorflow as tf\n",
        "from tensorflow import keras\n",
        "from tensorflow.keras.preprocessing.text import Tokenizer"
      ],
      "execution_count": 1,
      "outputs": []
    },
    {
      "cell_type": "markdown",
      "metadata": {
        "id": "5EPJeGoNoZOa"
      },
      "source": [
        "#**Adding correct length to the test_data**\n",
        "> **This can be achieved by using oov_token**"
      ]
    },
    {
      "cell_type": "code",
      "metadata": {
        "colab": {
          "base_uri": "https://localhost:8080/"
        },
        "id": "Pyh_YYgemaLC",
        "outputId": "43aae284-d9d7-4da7-bb41-da4101545f23"
      },
      "source": [
        "token=Tokenizer(num_words=50, oov_token=\"<OOV>\")\n",
        "sentences=[\n",
        "           'I am undergraduate',\n",
        "           'I have specialization in AI'\n",
        "]\n",
        "token.fit_on_texts(sentences)\n",
        "word=token.word_index\n",
        "print(token)\n",
        "print('\\n')\n",
        "print(word)\n",
        "Sequencing=token.texts_to_sequences(sentences)\n",
        "print('\\n')\n",
        "print(Sequencing)"
      ],
      "execution_count": 4,
      "outputs": [
        {
          "output_type": "stream",
          "text": [
            "<keras_preprocessing.text.Tokenizer object at 0x7f7e3643c310>\n",
            "\n",
            "\n",
            "{'<OOV>': 1, 'i': 2, 'am': 3, 'undergraduate': 4, 'have': 5, 'specialization': 6, 'in': 7, 'ai': 8}\n",
            "\n",
            "\n",
            "[[2, 3, 4], [2, 5, 6, 7, 8]]\n"
          ],
          "name": "stdout"
        }
      ]
    },
    {
      "cell_type": "code",
      "metadata": {
        "colab": {
          "base_uri": "https://localhost:8080/"
        },
        "id": "a1arokN9ouFz",
        "outputId": "c460fc0c-0f52-437a-c332-ac912e260f1e"
      },
      "source": [
        "test_data=[\n",
        "           'I am persuing my specialization at University'\n",
        "]\n",
        "\n",
        "print(word,'\\n')\n",
        "test_seq=token.texts_to_sequences(test_data)\n",
        "print(test_seq)"
      ],
      "execution_count": 6,
      "outputs": [
        {
          "output_type": "stream",
          "text": [
            "{'<OOV>': 1, 'i': 2, 'am': 3, 'undergraduate': 4, 'have': 5, 'specialization': 6, 'in': 7, 'ai': 8} \n",
            "\n",
            "[[2, 3, 1, 1, 6, 1, 1]]\n"
          ],
          "name": "stdout"
        }
      ]
    },
    {
      "cell_type": "markdown",
      "metadata": {
        "id": "mRspWo4ppcLq"
      },
      "source": [
        "**Hence correct length has been predicted i.e. 7**"
      ]
    },
    {
      "cell_type": "markdown",
      "metadata": {
        "id": "8eU35NF_qGiJ"
      },
      "source": [
        "# **PADDING SEQUENCING**\n",
        "> **This is to ensure that all the sentences have same length , it is done by adding zeros in front of short length sentences**"
      ]
    },
    {
      "cell_type": "code",
      "metadata": {
        "id": "DPpcMWiHqnmp"
      },
      "source": [
        "from tensorflow.keras.preprocessing.sequence import pad_sequences"
      ],
      "execution_count": 8,
      "outputs": []
    },
    {
      "cell_type": "code",
      "metadata": {
        "id": "oBhtlZbcrSJl"
      },
      "source": [
        "n_sentences=[\n",
        "           'I am undergraduate',\n",
        "           'I have specialization in AI',\n",
        "           'I have Computer Science and Enginneering branch'\n",
        "]"
      ],
      "execution_count": 12,
      "outputs": []
    },
    {
      "cell_type": "code",
      "metadata": {
        "id": "gnxTGW8BrrsR"
      },
      "source": [
        "token=Tokenizer(num_words=100, oov_token=\"<OOV>\")\n",
        "token.fit_on_texts(n_sentences)\n",
        "word_x=token.word_index\n",
        "sq=token.texts_to_sequences(n_sentences)"
      ],
      "execution_count": 16,
      "outputs": []
    },
    {
      "cell_type": "code",
      "metadata": {
        "colab": {
          "base_uri": "https://localhost:8080/"
        },
        "id": "_d787UGUspq2",
        "outputId": "20569ab2-07b0-4a97-8ae7-806dac54e286"
      },
      "source": [
        "padded=pad_sequences(sq)\n",
        "print(word_x,'\\n')\n",
        "print(sq,'\\n')\n",
        "print(padded)"
      ],
      "execution_count": 18,
      "outputs": [
        {
          "output_type": "stream",
          "text": [
            "{'<OOV>': 1, 'i': 2, 'have': 3, 'am': 4, 'undergraduate': 5, 'specialization': 6, 'in': 7, 'ai': 8, 'computer': 9, 'science': 10, 'and': 11, 'enginneering': 12, 'branch': 13} \n",
            "\n",
            "[[2, 4, 5], [2, 3, 6, 7, 8], [2, 3, 9, 10, 11, 12, 13]] \n",
            "\n",
            "[[ 0  0  0  0  2  4  5]\n",
            " [ 0  0  2  3  6  7  8]\n",
            " [ 2  3  9 10 11 12 13]]\n"
          ],
          "name": "stdout"
        }
      ]
    },
    {
      "cell_type": "markdown",
      "metadata": {
        "id": "wEn5SZboufT0"
      },
      "source": [
        "**For Padding zeros at last**"
      ]
    },
    {
      "cell_type": "code",
      "metadata": {
        "colab": {
          "base_uri": "https://localhost:8080/"
        },
        "id": "_JSqFU_CuehY",
        "outputId": "2d703023-6f3f-4141-db0e-526965c4da44"
      },
      "source": [
        "n_padded=pad_sequences(sq,padding='post')\n",
        "print(n_padded)\n"
      ],
      "execution_count": 21,
      "outputs": [
        {
          "output_type": "stream",
          "text": [
            "[[ 2  4  5  0  0  0  0]\n",
            " [ 2  3  6  7  8  0  0]\n",
            " [ 2  3  9 10 11 12 13]]\n"
          ],
          "name": "stdout"
        }
      ]
    },
    {
      "cell_type": "code",
      "metadata": {
        "colab": {
          "base_uri": "https://localhost:8080/"
        },
        "id": "XPufJFIgvHXC",
        "outputId": "2c66a12d-a210-4642-e134-48c6ac89ecb4"
      },
      "source": [
        "a_padded=pad_sequences(sq,padding='post',truncating='pre',maxlen=4)\n",
        "print(a_padded)"
      ],
      "execution_count": 22,
      "outputs": [
        {
          "output_type": "stream",
          "text": [
            "[[ 2  4  5  0]\n",
            " [ 3  6  7  8]\n",
            " [10 11 12 13]]\n"
          ],
          "name": "stdout"
        }
      ]
    }
  ]
}