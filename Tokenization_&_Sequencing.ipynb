{
  "nbformat": 4,
  "nbformat_minor": 0,
  "metadata": {
    "colab": {
      "name": "Tokenization & Sequencing.ipynb",
      "provenance": [],
      "collapsed_sections": [],
      "authorship_tag": "ABX9TyPoStawil299I3BGF55kptG",
      "include_colab_link": true
    },
    "kernelspec": {
      "name": "python3",
      "display_name": "Python 3"
    },
    "language_info": {
      "name": "python"
    }
  },
  "cells": [
    {
      "cell_type": "markdown",
      "metadata": {
        "id": "view-in-github",
        "colab_type": "text"
      },
      "source": [
        "<a href=\"https://colab.research.google.com/github/annanya-mathur/Generating-Poetry-NLP-with-tensorflow/blob/main/Tokenization_%26_Sequencing.ipynb\" target=\"_parent\"><img src=\"https://colab.research.google.com/assets/colab-badge.svg\" alt=\"Open In Colab\"/></a>"
      ]
    },
    {
      "cell_type": "markdown",
      "metadata": {
        "id": "6Q5PfBuRi2UF"
      },
      "source": [
        "# **Tokenization**\n",
        "> **Tokenization is a way of separating a piece of text into smaller units called tokens. Here, tokens can be either words, characters, or subwords. Hence, tokenization can be broadly classified into 3 types – word, character, and subword (n-gram characters) tokenization.**"
      ]
    },
    {
      "cell_type": "code",
      "metadata": {
        "id": "Y_VJLfmviRoz"
      },
      "source": [
        "import tensorflow as tf\n",
        "from tensorflow import keras\n",
        "from tensorflow.keras.preprocessing.text import Tokenizer"
      ],
      "execution_count": 1,
      "outputs": []
    },
    {
      "cell_type": "code",
      "metadata": {
        "colab": {
          "base_uri": "https://localhost:8080/"
        },
        "id": "1rEgWLC-kgpD",
        "outputId": "f5d99aa3-94ec-487c-9f16-3f439ece79b5"
      },
      "source": [
        "token=Tokenizer(num_words=50)\n",
        "token.fit_on_texts(sentences)\n",
        "word=token.word_index\n",
        "print(token)\n",
        "print('\\n')\n",
        "print(word)"
      ],
      "execution_count": 4,
      "outputs": [
        {
          "output_type": "stream",
          "text": [
            "<keras_preprocessing.text.Tokenizer object at 0x7f17c1c8d110>\n",
            "\n",
            "\n",
            "{'i': 1, 'specialization': 2, 'am': 3, 'undergraduate': 4, 'work': 5, 'under': 6, 'ai': 7, 'this': 8, 'helped': 9, 'me': 10, 'learn': 11, 'a': 12, 'lot': 13}\n"
          ],
          "name": "stdout"
        }
      ]
    },
    {
      "cell_type": "markdown",
      "metadata": {
        "id": "zLTyvvJCmx2b"
      },
      "source": [
        "# **Sequencing**\n",
        "> **NLP Sequencing is the sequence of numbers that we will generate from a large corpus or body of statements by training a neural network.**"
      ]
    },
    {
      "cell_type": "code",
      "metadata": {
        "colab": {
          "base_uri": "https://localhost:8080/"
        },
        "id": "3EAEUAjnmXtH",
        "outputId": "951cc737-bc39-4a48-ed2d-074df3720eb1"
      },
      "source": [
        "Sequencing=token.texts_to_sequences(sentences)\n",
        "print(word)\n",
        "print('\\n')\n",
        "print(Sequencing)"
      ],
      "execution_count": 14,
      "outputs": [
        {
          "output_type": "stream",
          "text": [
            "{'i': 1, 'specialization': 2, 'am': 3, 'undergraduate': 4, 'work': 5, 'under': 6, 'ai': 7, 'this': 8, 'helped': 9, 'me': 10, 'learn': 11, 'a': 12, 'lot': 13}\n",
            "\n",
            "\n",
            "[[1, 3, 4], [1, 5, 6, 7, 2], [8, 2, 9, 10, 11, 12, 13]]\n"
          ],
          "name": "stdout"
        }
      ]
    },
    {
      "cell_type": "code",
      "metadata": {
        "id": "CZKPeUW8oBL_"
      },
      "source": [
        "test_data=[\n",
        "           'I also work on ml'\n",
        "]"
      ],
      "execution_count": 15,
      "outputs": []
    },
    {
      "cell_type": "code",
      "metadata": {
        "colab": {
          "base_uri": "https://localhost:8080/"
        },
        "id": "cweRenQbseMe",
        "outputId": "fb4251f5-65a5-40a2-9962-9060ed9d3a5c"
      },
      "source": [
        "test_seq=token.texts_to_sequences(test_data)\n",
        "print(test_seq)"
      ],
      "execution_count": 16,
      "outputs": [
        {
          "output_type": "stream",
          "text": [
            "[[1, 5]]\n"
          ],
          "name": "stdout"
        }
      ]
    },
    {
      "cell_type": "markdown",
      "metadata": {
        "id": "V6EOtlXus7ec"
      },
      "source": [
        "**Which is wrong output**"
      ]
    }
  ]
}